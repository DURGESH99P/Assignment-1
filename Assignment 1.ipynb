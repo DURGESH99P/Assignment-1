{
 "cells": [
  {
   "cell_type": "markdown",
   "id": "68264da8",
   "metadata": {},
   "source": [
    "# Assignment 1"
   ]
  },
  {
   "cell_type": "markdown",
   "id": "83049dea",
   "metadata": {},
   "source": [
    "## 1. In the below elements which of them are values or an expression? eg:- values can be integer or string and expressions will be mathematical operators."
   ]
  },
  {
   "cell_type": "markdown",
   "id": "25f248fe",
   "metadata": {},
   "source": [
    "1. #### *  is an expression used for multiplication.\n",
    "2. #### 'hello'  is a string.\n",
    "3. #### -87.8  its a negative floating point number.\n",
    "4. #### -  is a mathematical operator used for subtraction.\n",
    "5. #### /  is a mathematical operator used for division.\n",
    "6. #### +  is a mathematical operator used for addition (sum).\n",
    "7. #### 6  is a value integer."
   ]
  },
  {
   "cell_type": "markdown",
   "id": "c0f1357d",
   "metadata": {},
   "source": [
    "## 2. What is the difference between string and variable?"
   ]
  },
  {
   "cell_type": "markdown",
   "id": "f9dda502",
   "metadata": {},
   "source": [
    "1. #### A variable is used for storing data or values, in form of integer,string or bools.Variable is an identifier to store a value in a memory location and to manipulate it if needed.\n",
    "    * #### example: a = 2 ,here \"a\" is a variable storing value 2.\n",
    "2. #### string is a datatype which is used to write expressions or statements.they are written inside double quotes or single quotes.\n",
    "    * #### example: \"hello world\" here hello world is a string."
   ]
  },
  {
   "cell_type": "markdown",
   "id": "e35687a5",
   "metadata": {},
   "source": [
    "## 3. Describe three different data types."
   ]
  },
  {
   "cell_type": "markdown",
   "id": "18a2bd0f",
   "metadata": {},
   "source": [
    "1. #### int : Integer is the most common numeric data type used to store numbers without a fractional component\n",
    "2. #### boolean(bool) : It represents the values true and false. When working with the boolean data type, it is helpful to keep in mind that sometimes a boolean value is also represented as 0 (for false) and 1 (for true)\n",
    "3. #### String (str or text) : It is a sequence of characters and the most commonly used data type to store text. string is a datatype which is used to write expressions or statements.they are written inside double quotes or single quotes. eg. \"hello world\" here hello world is a string."
   ]
  },
  {
   "cell_type": "markdown",
   "id": "b6cbacda",
   "metadata": {},
   "source": [
    "## 4. What is an expression made up of? What do all expressions do?"
   ]
  },
  {
   "cell_type": "markdown",
   "id": "dfcab06d",
   "metadata": {},
   "source": [
    "* #### An Expression is a sequence or combination of values, variables, operators and function calls that always produces or returns a result value.\n",
    "* #### example: x = 5, y = 3, z = x + y \n",
    "* #### all expression cant be a statement."
   ]
  },
  {
   "cell_type": "markdown",
   "id": "103edb70",
   "metadata": {},
   "source": [
    "## 5. This assignment statements, like spam = 10. What is the difference between an expression and a statement?"
   ]
  },
  {
   "cell_type": "markdown",
   "id": "21efbf01",
   "metadata": {},
   "source": [
    "### Expression:\n",
    "* #### An Expression is a sequence or combination of values, variables, operators and function calls that always produces or returns a result value.\n",
    "* #### example: x = 5, y = 3, z = x + y \n",
    "* #### all expression cant be a statement.\n",
    "    \n",
    "### Statement:\n",
    "* #### Any Instruction that a python interpreter can execute (carry out) is called a Statement.\n",
    "* #### example: x = 3 ,print(x) here , x= 3 is an assignment statement and print(x) is a print statement.\n",
    "* #### all statements can be a expression."
   ]
  },
  {
   "cell_type": "markdown",
   "id": "a15fb2b5",
   "metadata": {},
   "source": [
    "## 6. After running the following code, what does the variable bacon contain?\n",
    "### bacon = 22\n",
    "### bacon+1"
   ]
  },
  {
   "cell_type": "markdown",
   "id": "039277c7",
   "metadata": {},
   "source": [
    "* #### the bacon will contain 22 as there is no assignment of bacon+1 to bacon , so bacon+1 will be 23 ,but bacon will remain 22 till assigned as bacon = bacon + 1"
   ]
  },
  {
   "cell_type": "markdown",
   "id": "903efc6f",
   "metadata": {},
   "source": [
    "## 7. What should the values of the following two terms be?\n",
    "### 'span'+'spanspan'\n",
    "### 'span'*3"
   ]
  },
  {
   "cell_type": "markdown",
   "id": "257c2bbf",
   "metadata": {},
   "source": [
    "* #### 'span'+'spanspan' = 'spanspanspan'\n",
    "* #### 'span'*3 = 'spanspanspan'"
   ]
  },
  {
   "cell_type": "markdown",
   "id": "e0cf0f69",
   "metadata": {},
   "source": [
    "## 8. Why is eggs a valid variable name while 100 is invalid?"
   ]
  },
  {
   "cell_type": "markdown",
   "id": "66806750",
   "metadata": {},
   "source": [
    "* #### variable names cannot begin with number"
   ]
  },
  {
   "cell_type": "markdown",
   "id": "59b9114e",
   "metadata": {},
   "source": [
    "## 9. What three functions can be used to get the integer, floating-point number, or string version of a value?"
   ]
  },
  {
   "cell_type": "markdown",
   "id": "32fe4699",
   "metadata": {},
   "source": [
    "* #### The int(), float(), and str() functions will evaluate to the integer, floating-point number, and string versions of the value passed to them."
   ]
  },
  {
   "cell_type": "markdown",
   "id": "fc0df62f",
   "metadata": {},
   "source": [
    "## 10. Why does this expression cause an error? How can you fix it? \n",
    "## 'i have eaten'+ 99 + 'burritos' "
   ]
  },
  {
   "cell_type": "markdown",
   "id": "62145036",
   "metadata": {},
   "source": [
    "* #### The expression causes an error because 99 is an integer, and only strings can be concatenated to other strings with the + operator. The correct way is I have eaten ' + str(99) + ' burritos.'"
   ]
  }
 ],
 "metadata": {
  "kernelspec": {
   "display_name": "Python 3 (ipykernel)",
   "language": "python",
   "name": "python3"
  },
  "language_info": {
   "codemirror_mode": {
    "name": "ipython",
    "version": 3
   },
   "file_extension": ".py",
   "mimetype": "text/x-python",
   "name": "python",
   "nbconvert_exporter": "python",
   "pygments_lexer": "ipython3",
   "version": "3.8.10"
  }
 },
 "nbformat": 4,
 "nbformat_minor": 5
}
